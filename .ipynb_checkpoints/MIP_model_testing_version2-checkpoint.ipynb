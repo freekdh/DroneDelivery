{
 "cells": [
  {
   "cell_type": "code",
   "execution_count": 1,
   "metadata": {},
   "outputs": [],
   "source": [
    "from mip import *\n",
    "from dataclasses import dataclass\n",
    "import itertools\n",
    "from collections import defaultdict\n",
    "import math\n",
    "from copy import copy"
   ]
  },
  {
   "cell_type": "code",
   "execution_count": 2,
   "metadata": {},
   "outputs": [],
   "source": [
    "capacity_per_flight = 2"
   ]
  },
  {
   "cell_type": "code",
   "execution_count": 3,
   "metadata": {},
   "outputs": [],
   "source": [
    "class LinearExpression:\n",
    "    def __init__(self):\n",
    "        self.variables = defaultdict(lambda: 0)\n",
    "        self.constant = 0\n",
    "        \n",
    "    def __repr__(self):\n",
    "        return f\"LE with n_var: {len(self.variables)} and const: {self.constant}\"\n",
    "    \n",
    "    def add_variable(self, variable, coefficient = 1):\n",
    "        self.variables[variable] += coefficient\n",
    "        if self.variables[variable] == 0:\n",
    "            del self.variables[variable]\n",
    "\n",
    "    def add_constant(self, constant):\n",
    "        self.constant += constant\n",
    "    \n",
    "    def __copy__(self):\n",
    "        le = LinearExpression()\n",
    "        for variable, coefficient in self.variables.items():\n",
    "            le.add_variable(variable, coefficient)\n",
    "        le.add_constant(self.constant)\n",
    "        return le\n",
    "    \n",
    "    def __sub__(self, other):\n",
    "        le = copy(self)\n",
    "        for variable, coefficient in other.variables.items():\n",
    "            le.add_variable(variable, -1*coefficient)\n",
    "        le.add_constant(-1*other.constant)\n",
    "        return le"
   ]
  },
  {
   "cell_type": "code",
   "execution_count": 4,
   "metadata": {},
   "outputs": [],
   "source": [
    "class EqualityConstraint:\n",
    "    def __init__(self, lhs, rhs):\n",
    "        assert isinstance(lhs, LinearExpression)\n",
    "        assert isinstance(rhs, (float, int))\n",
    "        self.rhs = rhs\n",
    "        self.lhs = lhs\n",
    "\n",
    "class LE_InequalityConstraint:\n",
    "    \"\"\"\n",
    "    Less than or equal to inequality constraint\n",
    "    \"\"\"\n",
    "    def __init__(self, lhs, rhs):\n",
    "        assert isinstance(lhs, LinearExpression)\n",
    "        assert isinstance(rhs, (float, int))\n",
    "        self.rhs = rhs\n",
    "        self.lhs = lhs\n",
    "    "
   ]
  },
  {
   "cell_type": "code",
   "execution_count": 5,
   "metadata": {},
   "outputs": [],
   "source": [
    "@dataclass(frozen=True)\n",
    "class Hub:\n",
    "    x_coordinate: int\n",
    "    y_coordinate: int\n",
    "    inventory: dict\n",
    "        \n",
    "    def __repr__(self):\n",
    "        return f\"hub ({self.x_coordinate}, {self.y_coordinate})\"\n",
    "    \n",
    "    def __hash__(self):\n",
    "        return id(self)\n",
    "        \n",
    "@dataclass(frozen=True)\n",
    "class Customer:\n",
    "    x_coordinate: int\n",
    "    y_coordinate: int\n",
    "    demand: dict\n",
    "        \n",
    "    def __repr__(self):\n",
    "        return f\"customer ({self.x_coordinate}, {self.y_coordinate})\"\n",
    "    \n",
    "    def __hash__(self):\n",
    "        return id(self)\n",
    "\n",
    "@dataclass(frozen=True)\n",
    "class Product:\n",
    "    unique_id: int"
   ]
  },
  {
   "cell_type": "code",
   "execution_count": 6,
   "metadata": {},
   "outputs": [],
   "source": [
    "def get_distance(place1, place2):\n",
    "    return math.sqrt(abs(place1.x_coordinate - place2.x_coordinate)**2 + abs(place1.y_coordinate - place2.y_coordinate)**2)"
   ]
  },
  {
   "cell_type": "code",
   "execution_count": 7,
   "metadata": {},
   "outputs": [],
   "source": [
    "def get_products():\n",
    "    return [Product(0), Product(1)]\n",
    "\n",
    "def get_hubs(products):\n",
    "    return [Hub(-1,0, {products[0]: 0, products[1]: 2}), Hub(1,0,{products[0]: 2, products[1]: 0}), Hub(0,5,{products[0]: 0, products[1]: 0})]\n",
    "\n",
    "def get_customers(products):\n",
    "    return [Customer(0,10, {products[0]: 2, products[1]: 2})]"
   ]
  },
  {
   "cell_type": "code",
   "execution_count": 8,
   "metadata": {},
   "outputs": [],
   "source": [
    "products = get_products()\n",
    "hubs = get_hubs(products)\n",
    "customers = get_customers(products)"
   ]
  },
  {
   "cell_type": "code",
   "execution_count": 9,
   "metadata": {},
   "outputs": [],
   "source": [
    "@dataclass(frozen=True)\n",
    "class IntegerVariable:\n",
    "    name: str\n",
    "    lower_bound: int = None\n",
    "    upper_bound: int = None\n",
    "\n",
    "    def __hash__(self):\n",
    "        return id(self)\n"
   ]
  },
  {
   "cell_type": "code",
   "execution_count": 10,
   "metadata": {},
   "outputs": [],
   "source": [
    "def get_n_flights_variables(customers, hubs):\n",
    "    return {(customer, hub): IntegerVariable(name={f\"number of flights from {hub} to {customer}\"},\n",
    "                                            lower_bound=0) \n",
    "            for customer, hub in itertools.product(customers, hubs)}\n",
    "\n",
    "def get_n_products_move_variables(customers, hubs, products):\n",
    "    return {(customer, hub, product): IntegerVariable(name={f\"number of products of product type {product} from {hub} to {customer}\"},\n",
    "                                                     lower_bound=0,\n",
    "                                                     upper_bound=customer.demand[product]) \n",
    "        for customer, hub, product in itertools.product(customers, hubs, products)}\n",
    "\n",
    "def get_n_flights_hub_to_hub(hubs):\n",
    "    return {(hub1, hub2): IntegerVariable(name={f\"number of flights from {hub1} to {hub2}\"},\n",
    "                                            lower_bound=0) \n",
    "            for hub1, hub2 in itertools.product(hubs, hubs) if hub1 != hub2}\n",
    "\n",
    "def get_n_products_move_hub_to_hub(hubs, products):\n",
    "    return {(hub1, hub2, product): IntegerVariable(name={f\"number of products of product type {product} from {hub1} to {hub2}\"},\n",
    "                                                     lower_bound=0)\n",
    "        for hub1, hub2, product in itertools.product(hubs, hubs, products) if hub1 != hub2}"
   ]
  },
  {
   "cell_type": "code",
   "execution_count": 11,
   "metadata": {},
   "outputs": [],
   "source": [
    "n_flights_variables = get_n_flights_variables(customers, hubs)\n",
    "n_product_move_variables = get_n_products_move_variables(customers, hubs, products)\n",
    "n_flights_hub_to_hub_variables = get_n_flights_hub_to_hub(hubs)\n",
    "n_products_move_hub_to_hub_variables = get_n_products_move_hub_to_hub(hubs, products)\n",
    "\n",
    "decision_variables = list(n_flights_variables.values())+ list(n_product_move_variables.values()) + list(n_flights_hub_to_hub_variables.values()) + list(n_products_move_hub_to_hub_variables.values())"
   ]
  },
  {
   "cell_type": "code",
   "execution_count": 12,
   "metadata": {},
   "outputs": [],
   "source": [
    "def get_objective(n_flights_variables, n_flights_hub_to_hub_variables):\n",
    "    le = LinearExpression()\n",
    "    for customer, hub in itertools.product(customers, hubs):\n",
    "        le.add_variable(variable=n_flights_variables[customer, hub], coefficient=get_distance(hub, customer))\n",
    "    \n",
    "    for hub1, hub2 in itertools.product(hubs, hubs):\n",
    "        if hub1 != hub2:\n",
    "            le.add_variable(variable=n_flights_hub_to_hub_variables[hub1, hub2], coefficient=get_distance(hub1, hub2))  \n",
    "    return le"
   ]
  },
  {
   "cell_type": "code",
   "execution_count": 13,
   "metadata": {},
   "outputs": [],
   "source": [
    "objective = get_objective(n_flights_variables, n_flights_hub_to_hub_variables)"
   ]
  },
  {
   "cell_type": "code",
   "execution_count": 14,
   "metadata": {},
   "outputs": [],
   "source": [
    "def get_demand_constraints(n_product_move_variables):\n",
    "    constraints = []\n",
    "    for customer, product in itertools.product(customers, products):\n",
    "        lhs = LinearExpression()\n",
    "        for hub in hubs:\n",
    "            lhs.add_variable(n_product_move_variables[(customer, hub, product)])\n",
    "        constraints.append(EqualityConstraint(lhs=lhs, rhs=customer.demand[product]))\n",
    "    return constraints\n",
    "\n",
    "def get_supply_constraints(n_product_move_variables, n_products_move_hub_to_hub_variables):\n",
    "    constraints = []\n",
    "    for hub, product in itertools.product(hubs, products):\n",
    "        le_1 = LinearExpression()\n",
    "        for customer in customers:\n",
    "            le_1.add_variable(n_product_move_variables[(customer, hub, product)])\n",
    "            \n",
    "        le_2 = LinearExpression()\n",
    "        for hub_ in hubs:\n",
    "            if hub_ != hub:\n",
    "                le_2.add_variable(n_products_move_hub_to_hub_variables[(hub_, hub, product)], 1)\n",
    "                le_2.add_variable(n_products_move_hub_to_hub_variables[(hub, hub_, product)], -1)\n",
    "\n",
    "        constraints.append(LE_InequalityConstraint(lhs=le_1-le_2, rhs=hub.inventory[product]))\n",
    "    return constraints\n",
    "\n",
    "def get_trips_constraints(n_product_move_variables, n_flights_variables):\n",
    "    constraints = []\n",
    "    for customer, hub in itertools.product(customers, hubs):\n",
    "        le_1 = LinearExpression()\n",
    "        for product in products:\n",
    "            le_1.add_variable(n_product_move_variables[(customer, hub, product)])\n",
    "        \n",
    "        le_2 = LinearExpression()\n",
    "        le_2.add_variable(n_flights_variables[(customer, hub)], capacity_per_flight)\n",
    "        \n",
    "        constraints.append(LE_InequalityConstraint(lhs=le_1 - le_2, rhs=0))\n",
    "    return constraints\n",
    "\n",
    "def get_trips_hub_to_hub_constraints(n_products_move_hub_to_hub_variables, n_flights_hub_to_hub_variables):\n",
    "    constraints = []\n",
    "    for hub1, hub2 in itertools.product(hubs, hubs):\n",
    "        if hub1 != hub2:\n",
    "            le_1 = LinearExpression()\n",
    "            for product in products:\n",
    "                le_1.add_variable(n_products_move_hub_to_hub_variables[(hub1, hub2, product)])\n",
    "\n",
    "            le_2 = LinearExpression()\n",
    "            le_2.add_variable(n_flights_hub_to_hub_variables[(hub1, hub2)], capacity_per_flight)\n",
    "\n",
    "            constraints.append(LE_InequalityConstraint(lhs=le_1 - le_2, rhs=0))\n",
    "    return constraints"
   ]
  },
  {
   "cell_type": "code",
   "execution_count": 15,
   "metadata": {},
   "outputs": [],
   "source": [
    "demand_constraints = get_demand_constraints(n_product_move_variables)\n",
    "supply_constraints = get_supply_constraints(n_product_move_variables, n_products_move_hub_to_hub_variables)\n",
    "trips_constraints = get_trips_constraints(n_product_move_variables, n_flights_variables)\n",
    "trips_hub_hub_constraints = get_trips_hub_to_hub_constraints(n_products_move_hub_to_hub_variables, n_flights_hub_to_hub_variables)\n",
    "constraints = demand_constraints + supply_constraints + trips_constraints + trips_hub_hub_constraints"
   ]
  },
  {
   "cell_type": "markdown",
   "metadata": {},
   "source": [
    "# Make model"
   ]
  },
  {
   "cell_type": "code",
   "execution_count": 16,
   "metadata": {},
   "outputs": [],
   "source": [
    "class MipModel:\n",
    "\n",
    "    def __init__(\n",
    "        self,\n",
    "        decision_variables,\n",
    "        constraints,\n",
    "        objective,\n",
    "    ):\n",
    "        self.m = Model(sense=MINIMIZE, solver_name=CBC)\n",
    "        self.model_variables = self._add_variables_to_model(decision_variables)\n",
    "        \n",
    "        self._add_constraints_to_model(constraints)\n",
    "        self._add_objective_to_model(objective)\n",
    "    \n",
    "    def _add_objective_to_model(self, objective):           \n",
    "        self.m.objective = minimize(\n",
    "            xsum(coeff * self.model_variables[var] for var, coeff in objective.variables.items())\n",
    "        )\n",
    "\n",
    "    \n",
    "    def _add_constraints_to_model(self, constraints):\n",
    "        for constraint in constraints:\n",
    "            if isinstance(constraint, LE_InequalityConstraint):\n",
    "                self.m += (\n",
    "                    xsum(\n",
    "                        coeff * self.model_variables[var]\n",
    "                        for var, coeff in constraint.lhs.variables.items()\n",
    "                    )\n",
    "                    <= constraint.rhs\n",
    "                )\n",
    "\n",
    "            if isinstance(constraint, EqualityConstraint):\n",
    "                self.m += (\n",
    "                    xsum(\n",
    "                        coeff * self.model_variables[var]\n",
    "                        for var, coeff in constraint.lhs.variables.items()\n",
    "                    )\n",
    "                    == constraint.rhs\n",
    "                )\n",
    "\n",
    "    def _add_variables_to_model(self, decision_variables):\n",
    "        model_variables = {}\n",
    "        for decision_variable in decision_variables:\n",
    "            if isinstance(decision_variable, IntegerVariable):\n",
    "                model_variables[decision_variable] = self.m.add_var(var_type=INTEGER, lb=decision_variable.lower_bound)\n",
    "            else:\n",
    "                raise Exception(f\"Do not recognize this variable {decision_variable}\")\n",
    "        return model_variables\n",
    "    \n",
    "    def solve(self):\n",
    "        self.status = self.m.optimize()\n",
    "        return {\n",
    "            name: int(np.round(model_variable.x))\n",
    "            for name, model_variable in self.model_variables.items()\n",
    "        }\n"
   ]
  },
  {
   "cell_type": "code",
   "execution_count": 17,
   "metadata": {},
   "outputs": [],
   "source": [
    "mip_model = MipModel(decision_variables, constraints, objective)"
   ]
  },
  {
   "cell_type": "code",
   "execution_count": 18,
   "metadata": {},
   "outputs": [],
   "source": [
    "solution = mip_model.solve()"
   ]
  },
  {
   "cell_type": "code",
   "execution_count": 19,
   "metadata": {},
   "outputs": [
    {
     "name": "stdout",
     "output_type": "stream",
     "text": [
      "IntegerVariable(name={'number of flights from hub (1, 0) to customer (0, 10)'}, lower_bound=0, upper_bound=None) 1\n",
      "IntegerVariable(name={'number of products of product type Product(unique_id=0) from hub (1, 0) to customer (0, 10)'}, lower_bound=0, upper_bound=2) 2\n",
      "IntegerVariable(name={'number of products of product type Product(unique_id=1) from hub (1, 0) to customer (0, 10)'}, lower_bound=0, upper_bound=2) 2\n",
      "IntegerVariable(name={'number of flights from hub (-1, 0) to hub (1, 0)'}, lower_bound=0, upper_bound=None) 1\n",
      "IntegerVariable(name={'number of products of product type Product(unique_id=1) from hub (-1, 0) to hub (1, 0)'}, lower_bound=0, upper_bound=None) 2\n"
     ]
    }
   ],
   "source": [
    "for variable, value in solution.items():\n",
    "    if value != 0:\n",
    "        print(variable, value)"
   ]
  },
  {
   "cell_type": "code",
   "execution_count": null,
   "metadata": {},
   "outputs": [],
   "source": []
  }
 ],
 "metadata": {
  "kernelspec": {
   "display_name": "Python 3",
   "language": "python",
   "name": "python3"
  },
  "language_info": {
   "codemirror_mode": {
    "name": "ipython",
    "version": 3
   },
   "file_extension": ".py",
   "mimetype": "text/x-python",
   "name": "python",
   "nbconvert_exporter": "python",
   "pygments_lexer": "ipython3",
   "version": "3.8.5"
  }
 },
 "nbformat": 4,
 "nbformat_minor": 4
}
